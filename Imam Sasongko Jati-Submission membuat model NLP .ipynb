{
  "nbformat": 4,
  "nbformat_minor": 0,
  "metadata": {
    "colab": {
      "name": "Untitled3.ipynb",
      "provenance": [],
      "collapsed_sections": []
    },
    "kernelspec": {
      "name": "python3",
      "display_name": "Python 3"
    },
    "language_info": {
      "name": "python"
    }
  },
  "cells": [
    {
      "cell_type": "markdown",
      "metadata": {
        "id": "yIobya_fQple"
      },
      "source": [
        "# **Membuat Model NLP dengan TensorFlow**"
      ]
    },
    {
      "cell_type": "markdown",
      "metadata": {
        "id": "S-vd2uYIQxvy"
      },
      "source": [
        "**Nama : Imam Sasongko Jati** \n",
        "\n",
        "\n"
      ]
    },
    {
      "cell_type": "markdown",
      "metadata": {
        "id": "JFXkLEp3Rd0B"
      },
      "source": [
        "**Kelas :  Belajar Pengembangan Machine Learning** "
      ]
    },
    {
      "cell_type": "markdown",
      "metadata": {
        "id": "xfWQ3_u-RmXM"
      },
      "source": [
        "Menyiapkan dataset Video Game Sales yang telah di unduh dari situs Kaggle [teks link](https://www.kaggle.com/gregorut/videogamesales), serta memilih kolom yang akan digunakan"
      ]
    },
    {
      "cell_type": "code",
      "metadata": {
        "id": "PBtu6BUEjzl-"
      },
      "source": [
        "import pandas as pd\n",
        "df = pd.read_csv('vgsales.csv')\n",
        "df = df[['Name','Genre']]"
      ],
      "execution_count": 154,
      "outputs": []
    },
    {
      "cell_type": "markdown",
      "metadata": {
        "id": "2RHTLifNSSvP"
      },
      "source": [
        ""
      ]
    },
    {
      "cell_type": "code",
      "metadata": {
        "colab": {
          "base_uri": "https://localhost:8080/",
          "height": 414
        },
        "id": "Wp8PyTWdljGJ",
        "outputId": "6615b014-dabc-47da-97e6-9fbc519ebe39"
      },
      "source": [
        "df"
      ],
      "execution_count": 155,
      "outputs": [
        {
          "output_type": "execute_result",
          "data": {
            "text/html": [
              "<div>\n",
              "<style scoped>\n",
              "    .dataframe tbody tr th:only-of-type {\n",
              "        vertical-align: middle;\n",
              "    }\n",
              "\n",
              "    .dataframe tbody tr th {\n",
              "        vertical-align: top;\n",
              "    }\n",
              "\n",
              "    .dataframe thead th {\n",
              "        text-align: right;\n",
              "    }\n",
              "</style>\n",
              "<table border=\"1\" class=\"dataframe\">\n",
              "  <thead>\n",
              "    <tr style=\"text-align: right;\">\n",
              "      <th></th>\n",
              "      <th>Name</th>\n",
              "      <th>Genre</th>\n",
              "    </tr>\n",
              "  </thead>\n",
              "  <tbody>\n",
              "    <tr>\n",
              "      <th>0</th>\n",
              "      <td>Wii Sports</td>\n",
              "      <td>Sports</td>\n",
              "    </tr>\n",
              "    <tr>\n",
              "      <th>1</th>\n",
              "      <td>Super Mario Bros.</td>\n",
              "      <td>Platform</td>\n",
              "    </tr>\n",
              "    <tr>\n",
              "      <th>2</th>\n",
              "      <td>Mario Kart Wii</td>\n",
              "      <td>Racing</td>\n",
              "    </tr>\n",
              "    <tr>\n",
              "      <th>3</th>\n",
              "      <td>Wii Sports Resort</td>\n",
              "      <td>Sports</td>\n",
              "    </tr>\n",
              "    <tr>\n",
              "      <th>4</th>\n",
              "      <td>Pokemon Red/Pokemon Blue</td>\n",
              "      <td>Role-Playing</td>\n",
              "    </tr>\n",
              "    <tr>\n",
              "      <th>...</th>\n",
              "      <td>...</td>\n",
              "      <td>...</td>\n",
              "    </tr>\n",
              "    <tr>\n",
              "      <th>16593</th>\n",
              "      <td>Woody Woodpecker in Crazy Castle 5</td>\n",
              "      <td>Platform</td>\n",
              "    </tr>\n",
              "    <tr>\n",
              "      <th>16594</th>\n",
              "      <td>Men in Black II: Alien Escape</td>\n",
              "      <td>Shooter</td>\n",
              "    </tr>\n",
              "    <tr>\n",
              "      <th>16595</th>\n",
              "      <td>SCORE International Baja 1000: The Official Game</td>\n",
              "      <td>Racing</td>\n",
              "    </tr>\n",
              "    <tr>\n",
              "      <th>16596</th>\n",
              "      <td>Know How 2</td>\n",
              "      <td>Puzzle</td>\n",
              "    </tr>\n",
              "    <tr>\n",
              "      <th>16597</th>\n",
              "      <td>Spirits &amp; Spells</td>\n",
              "      <td>Platform</td>\n",
              "    </tr>\n",
              "  </tbody>\n",
              "</table>\n",
              "<p>16598 rows × 2 columns</p>\n",
              "</div>"
            ],
            "text/plain": [
              "                                                   Name         Genre\n",
              "0                                            Wii Sports        Sports\n",
              "1                                     Super Mario Bros.      Platform\n",
              "2                                        Mario Kart Wii        Racing\n",
              "3                                     Wii Sports Resort        Sports\n",
              "4                              Pokemon Red/Pokemon Blue  Role-Playing\n",
              "...                                                 ...           ...\n",
              "16593                Woody Woodpecker in Crazy Castle 5      Platform\n",
              "16594                     Men in Black II: Alien Escape       Shooter\n",
              "16595  SCORE International Baja 1000: The Official Game        Racing\n",
              "16596                                        Know How 2        Puzzle\n",
              "16597                                  Spirits & Spells      Platform\n",
              "\n",
              "[16598 rows x 2 columns]"
            ]
          },
          "metadata": {
            "tags": []
          },
          "execution_count": 155
        }
      ]
    },
    {
      "cell_type": "markdown",
      "metadata": {
        "id": "PKiG57OtYO2z"
      },
      "source": [
        "Melakukan proses One-Hot-Encoding karena label data masih berupa kategorikal dan membuat dataframe baru."
      ]
    },
    {
      "cell_type": "code",
      "metadata": {
        "colab": {
          "base_uri": "https://localhost:8080/",
          "height": 464
        },
        "id": "ClWgK6GdolLP",
        "outputId": "73c3abda-5681-4ee2-a770-8ee6f3e84fd5"
      },
      "source": [
        "category = pd.get_dummies(df.Genre)\n",
        "df_new = pd.concat([df, category], axis=1)\n",
        "df_new = df_new.drop(columns='Genre')\n",
        "df_new"
      ],
      "execution_count": 156,
      "outputs": [
        {
          "output_type": "execute_result",
          "data": {
            "text/html": [
              "<div>\n",
              "<style scoped>\n",
              "    .dataframe tbody tr th:only-of-type {\n",
              "        vertical-align: middle;\n",
              "    }\n",
              "\n",
              "    .dataframe tbody tr th {\n",
              "        vertical-align: top;\n",
              "    }\n",
              "\n",
              "    .dataframe thead th {\n",
              "        text-align: right;\n",
              "    }\n",
              "</style>\n",
              "<table border=\"1\" class=\"dataframe\">\n",
              "  <thead>\n",
              "    <tr style=\"text-align: right;\">\n",
              "      <th></th>\n",
              "      <th>Name</th>\n",
              "      <th>Action</th>\n",
              "      <th>Adventure</th>\n",
              "      <th>Fighting</th>\n",
              "      <th>Misc</th>\n",
              "      <th>Platform</th>\n",
              "      <th>Puzzle</th>\n",
              "      <th>Racing</th>\n",
              "      <th>Role-Playing</th>\n",
              "      <th>Shooter</th>\n",
              "      <th>Simulation</th>\n",
              "      <th>Sports</th>\n",
              "      <th>Strategy</th>\n",
              "    </tr>\n",
              "  </thead>\n",
              "  <tbody>\n",
              "    <tr>\n",
              "      <th>0</th>\n",
              "      <td>Wii Sports</td>\n",
              "      <td>0</td>\n",
              "      <td>0</td>\n",
              "      <td>0</td>\n",
              "      <td>0</td>\n",
              "      <td>0</td>\n",
              "      <td>0</td>\n",
              "      <td>0</td>\n",
              "      <td>0</td>\n",
              "      <td>0</td>\n",
              "      <td>0</td>\n",
              "      <td>1</td>\n",
              "      <td>0</td>\n",
              "    </tr>\n",
              "    <tr>\n",
              "      <th>1</th>\n",
              "      <td>Super Mario Bros.</td>\n",
              "      <td>0</td>\n",
              "      <td>0</td>\n",
              "      <td>0</td>\n",
              "      <td>0</td>\n",
              "      <td>1</td>\n",
              "      <td>0</td>\n",
              "      <td>0</td>\n",
              "      <td>0</td>\n",
              "      <td>0</td>\n",
              "      <td>0</td>\n",
              "      <td>0</td>\n",
              "      <td>0</td>\n",
              "    </tr>\n",
              "    <tr>\n",
              "      <th>2</th>\n",
              "      <td>Mario Kart Wii</td>\n",
              "      <td>0</td>\n",
              "      <td>0</td>\n",
              "      <td>0</td>\n",
              "      <td>0</td>\n",
              "      <td>0</td>\n",
              "      <td>0</td>\n",
              "      <td>1</td>\n",
              "      <td>0</td>\n",
              "      <td>0</td>\n",
              "      <td>0</td>\n",
              "      <td>0</td>\n",
              "      <td>0</td>\n",
              "    </tr>\n",
              "    <tr>\n",
              "      <th>3</th>\n",
              "      <td>Wii Sports Resort</td>\n",
              "      <td>0</td>\n",
              "      <td>0</td>\n",
              "      <td>0</td>\n",
              "      <td>0</td>\n",
              "      <td>0</td>\n",
              "      <td>0</td>\n",
              "      <td>0</td>\n",
              "      <td>0</td>\n",
              "      <td>0</td>\n",
              "      <td>0</td>\n",
              "      <td>1</td>\n",
              "      <td>0</td>\n",
              "    </tr>\n",
              "    <tr>\n",
              "      <th>4</th>\n",
              "      <td>Pokemon Red/Pokemon Blue</td>\n",
              "      <td>0</td>\n",
              "      <td>0</td>\n",
              "      <td>0</td>\n",
              "      <td>0</td>\n",
              "      <td>0</td>\n",
              "      <td>0</td>\n",
              "      <td>0</td>\n",
              "      <td>1</td>\n",
              "      <td>0</td>\n",
              "      <td>0</td>\n",
              "      <td>0</td>\n",
              "      <td>0</td>\n",
              "    </tr>\n",
              "    <tr>\n",
              "      <th>...</th>\n",
              "      <td>...</td>\n",
              "      <td>...</td>\n",
              "      <td>...</td>\n",
              "      <td>...</td>\n",
              "      <td>...</td>\n",
              "      <td>...</td>\n",
              "      <td>...</td>\n",
              "      <td>...</td>\n",
              "      <td>...</td>\n",
              "      <td>...</td>\n",
              "      <td>...</td>\n",
              "      <td>...</td>\n",
              "      <td>...</td>\n",
              "    </tr>\n",
              "    <tr>\n",
              "      <th>16593</th>\n",
              "      <td>Woody Woodpecker in Crazy Castle 5</td>\n",
              "      <td>0</td>\n",
              "      <td>0</td>\n",
              "      <td>0</td>\n",
              "      <td>0</td>\n",
              "      <td>1</td>\n",
              "      <td>0</td>\n",
              "      <td>0</td>\n",
              "      <td>0</td>\n",
              "      <td>0</td>\n",
              "      <td>0</td>\n",
              "      <td>0</td>\n",
              "      <td>0</td>\n",
              "    </tr>\n",
              "    <tr>\n",
              "      <th>16594</th>\n",
              "      <td>Men in Black II: Alien Escape</td>\n",
              "      <td>0</td>\n",
              "      <td>0</td>\n",
              "      <td>0</td>\n",
              "      <td>0</td>\n",
              "      <td>0</td>\n",
              "      <td>0</td>\n",
              "      <td>0</td>\n",
              "      <td>0</td>\n",
              "      <td>1</td>\n",
              "      <td>0</td>\n",
              "      <td>0</td>\n",
              "      <td>0</td>\n",
              "    </tr>\n",
              "    <tr>\n",
              "      <th>16595</th>\n",
              "      <td>SCORE International Baja 1000: The Official Game</td>\n",
              "      <td>0</td>\n",
              "      <td>0</td>\n",
              "      <td>0</td>\n",
              "      <td>0</td>\n",
              "      <td>0</td>\n",
              "      <td>0</td>\n",
              "      <td>1</td>\n",
              "      <td>0</td>\n",
              "      <td>0</td>\n",
              "      <td>0</td>\n",
              "      <td>0</td>\n",
              "      <td>0</td>\n",
              "    </tr>\n",
              "    <tr>\n",
              "      <th>16596</th>\n",
              "      <td>Know How 2</td>\n",
              "      <td>0</td>\n",
              "      <td>0</td>\n",
              "      <td>0</td>\n",
              "      <td>0</td>\n",
              "      <td>0</td>\n",
              "      <td>1</td>\n",
              "      <td>0</td>\n",
              "      <td>0</td>\n",
              "      <td>0</td>\n",
              "      <td>0</td>\n",
              "      <td>0</td>\n",
              "      <td>0</td>\n",
              "    </tr>\n",
              "    <tr>\n",
              "      <th>16597</th>\n",
              "      <td>Spirits &amp; Spells</td>\n",
              "      <td>0</td>\n",
              "      <td>0</td>\n",
              "      <td>0</td>\n",
              "      <td>0</td>\n",
              "      <td>1</td>\n",
              "      <td>0</td>\n",
              "      <td>0</td>\n",
              "      <td>0</td>\n",
              "      <td>0</td>\n",
              "      <td>0</td>\n",
              "      <td>0</td>\n",
              "      <td>0</td>\n",
              "    </tr>\n",
              "  </tbody>\n",
              "</table>\n",
              "<p>16598 rows × 13 columns</p>\n",
              "</div>"
            ],
            "text/plain": [
              "                                                   Name  ...  Strategy\n",
              "0                                            Wii Sports  ...         0\n",
              "1                                     Super Mario Bros.  ...         0\n",
              "2                                        Mario Kart Wii  ...         0\n",
              "3                                     Wii Sports Resort  ...         0\n",
              "4                              Pokemon Red/Pokemon Blue  ...         0\n",
              "...                                                 ...  ...       ...\n",
              "16593                Woody Woodpecker in Crazy Castle 5  ...         0\n",
              "16594                     Men in Black II: Alien Escape  ...         0\n",
              "16595  SCORE International Baja 1000: The Official Game  ...         0\n",
              "16596                                        Know How 2  ...         0\n",
              "16597                                  Spirits & Spells  ...         0\n",
              "\n",
              "[16598 rows x 13 columns]"
            ]
          },
          "metadata": {
            "tags": []
          },
          "execution_count": 156
        }
      ]
    },
    {
      "cell_type": "markdown",
      "metadata": {
        "id": "ki3P41goYuhD"
      },
      "source": [
        "Merubah nilai-nilai dari dataframe ke dalam bentuk Numpy Array dengan cara menggunakan atribut values agar data dapat diproses oleh model."
      ]
    },
    {
      "cell_type": "code",
      "metadata": {
        "id": "NnPQrdfwHZjs"
      },
      "source": [
        "name = df_new['Name'].values\n",
        "label = df_new[['Action', 'Adventure', 'Fighting', 'Misc', 'Platform','Puzzle','Racing','Role-Playing','Shooter','Simulation','Sports','Strategy']].values"
      ],
      "execution_count": 157,
      "outputs": []
    },
    {
      "cell_type": "markdown",
      "metadata": {
        "id": "VWItKweBZGwA"
      },
      "source": [
        "Membagi dataset menjadi data validasi 20% dan data training 80% menggunakan fungsi split."
      ]
    },
    {
      "cell_type": "code",
      "metadata": {
        "id": "uJXXjyZnIvL8"
      },
      "source": [
        "from sklearn.model_selection import train_test_split\n",
        "name_train, name_val, label_train, label_val = train_test_split(name, label, test_size=0.2)"
      ],
      "execution_count": 158,
      "outputs": []
    },
    {
      "cell_type": "markdown",
      "metadata": {
        "id": "jQcMamoxbmQu"
      },
      "source": [
        "Mengecek jumlah data yang di split apakah sudah sesuai dengan yang di kehendaki."
      ]
    },
    {
      "cell_type": "code",
      "metadata": {
        "colab": {
          "base_uri": "https://localhost:8080/"
        },
        "id": "ZzgFpD-RaJvW",
        "outputId": "5a7536ee-a6ca-4ff4-a92b-0a3a31523d4d"
      },
      "source": [
        "print('Jumlah data train = ',len(name_train) )\n",
        "print('Jumlah data validasi = ',len(name_val) )\n",
        "print('Jumlah total data = ',len(name_train)+len(name_val))"
      ],
      "execution_count": 159,
      "outputs": [
        {
          "output_type": "stream",
          "text": [
            "Jumlah data train =  13278\n",
            "Jumlah data validasi =  3320\n",
            "Jumlah total data =  16598\n"
          ],
          "name": "stdout"
        }
      ]
    },
    {
      "cell_type": "markdown",
      "metadata": {
        "id": "tovOqgqCcoEn"
      },
      "source": [
        "Mengubah dataset ke bentuk numerik dengan menggunakan fungsi Tokenizer dan selanjutnya mengkonversi setiap sample ke dalama sequence."
      ]
    },
    {
      "cell_type": "code",
      "metadata": {
        "id": "OGFp4lXUI3ll"
      },
      "source": [
        "from tensorflow.keras.preprocessing.text import Tokenizer\n",
        "from tensorflow.keras.preprocessing.sequence import pad_sequences\n",
        " \n",
        "tokenizer = Tokenizer(num_words=5000, oov_token='x')\n",
        "tokenizer.fit_on_texts(name_train) \n",
        "tokenizer.fit_on_texts(name_val)\n",
        " \n",
        "sekuens_train = tokenizer.texts_to_sequences(name_train)\n",
        "sekuens_val = tokenizer.texts_to_sequences(name_val)\n",
        " \n",
        "padded_train = pad_sequences(sekuens_train) \n",
        "padded_val = pad_sequences(sekuens_val)"
      ],
      "execution_count": 160,
      "outputs": []
    },
    {
      "cell_type": "markdown",
      "metadata": {
        "id": "8jYeQVW1dJM7"
      },
      "source": [
        "Membuat model menggunakan layer Embedding dengan dimensi Embedding sebesar 128 serta dimensi input sebesar num_word pada proses tokenizer sebesar 5000, fungsi compile dengan loss function='categorical_crossentropy' dan optimizer = 'adam', serta menambahkan layer LSTM dan mengisi parameter dengan jumlah output 64."
      ]
    },
    {
      "cell_type": "code",
      "metadata": {
        "id": "Bmh96nVCKgex"
      },
      "source": [
        "import tensorflow as tf\n",
        "model = tf.keras.Sequential([\n",
        "    tf.keras.layers.Embedding(input_dim=5000, output_dim=128),\n",
        "    tf.keras.layers.LSTM(64),\n",
        "    tf.keras.layers.Dense(128, activation='relu'),\n",
        "    tf.keras.layers.Dense(64, activation='relu'),\n",
        "    tf.keras.layers.Dense(12, activation='softmax')\n",
        "])\n",
        "model.compile(loss='categorical_crossentropy',optimizer='adam',metrics=['accuracy'])"
      ],
      "execution_count": 161,
      "outputs": []
    },
    {
      "cell_type": "markdown",
      "metadata": {
        "id": "1795DRuhgxJo"
      },
      "source": [
        "Melatih model yang telah dibuat dengan fungsi fit dan jumlah pelatihan/epoch sebanyak 20x."
      ]
    },
    {
      "cell_type": "code",
      "metadata": {
        "colab": {
          "base_uri": "https://localhost:8080/"
        },
        "id": "xvtZRrZkLILv",
        "outputId": "2ebb314a-a8ac-439f-fe61-33362b1ffcf9"
      },
      "source": [
        "history = model.fit(padded_train, label_train, \n",
        "                    epochs=20, \n",
        "                    validation_data=(padded_val, label_val), verbose=2)"
      ],
      "execution_count": 162,
      "outputs": [
        {
          "output_type": "stream",
          "text": [
            "Epoch 1/20\n",
            "415/415 - 24s - loss: 1.8516 - accuracy: 0.3910 - val_loss: 1.2777 - val_accuracy: 0.6054\n",
            "Epoch 2/20\n",
            "415/415 - 9s - loss: 0.8960 - accuracy: 0.7378 - val_loss: 0.9700 - val_accuracy: 0.7193\n",
            "Epoch 3/20\n",
            "415/415 - 9s - loss: 0.5714 - accuracy: 0.8301 - val_loss: 0.9556 - val_accuracy: 0.7377\n",
            "Epoch 4/20\n",
            "415/415 - 8s - loss: 0.4369 - accuracy: 0.8651 - val_loss: 1.0095 - val_accuracy: 0.7398\n",
            "Epoch 5/20\n",
            "415/415 - 8s - loss: 0.3567 - accuracy: 0.8867 - val_loss: 1.0443 - val_accuracy: 0.7422\n",
            "Epoch 6/20\n",
            "415/415 - 8s - loss: 0.2956 - accuracy: 0.9030 - val_loss: 1.1165 - val_accuracy: 0.7479\n",
            "Epoch 7/20\n",
            "415/415 - 9s - loss: 0.2480 - accuracy: 0.9153 - val_loss: 1.2468 - val_accuracy: 0.7476\n",
            "Epoch 8/20\n",
            "415/415 - 9s - loss: 0.2153 - accuracy: 0.9269 - val_loss: 1.2958 - val_accuracy: 0.7521\n",
            "Epoch 9/20\n",
            "415/415 - 8s - loss: 0.1960 - accuracy: 0.9332 - val_loss: 1.3534 - val_accuracy: 0.7515\n",
            "Epoch 10/20\n",
            "415/415 - 8s - loss: 0.1668 - accuracy: 0.9422 - val_loss: 1.5523 - val_accuracy: 0.7530\n",
            "Epoch 11/20\n",
            "415/415 - 9s - loss: 0.1581 - accuracy: 0.9462 - val_loss: 1.6316 - val_accuracy: 0.7497\n",
            "Epoch 12/20\n",
            "415/415 - 8s - loss: 0.1398 - accuracy: 0.9512 - val_loss: 1.7167 - val_accuracy: 0.7485\n",
            "Epoch 13/20\n",
            "415/415 - 8s - loss: 0.1335 - accuracy: 0.9532 - val_loss: 1.6796 - val_accuracy: 0.7593\n",
            "Epoch 14/20\n",
            "415/415 - 8s - loss: 0.1171 - accuracy: 0.9598 - val_loss: 1.7617 - val_accuracy: 0.7524\n",
            "Epoch 15/20\n",
            "415/415 - 8s - loss: 0.1110 - accuracy: 0.9627 - val_loss: 1.8828 - val_accuracy: 0.7533\n",
            "Epoch 16/20\n",
            "415/415 - 9s - loss: 0.1135 - accuracy: 0.9623 - val_loss: 1.8743 - val_accuracy: 0.7608\n",
            "Epoch 17/20\n",
            "415/415 - 8s - loss: 0.1018 - accuracy: 0.9660 - val_loss: 2.0151 - val_accuracy: 0.7581\n",
            "Epoch 18/20\n",
            "415/415 - 9s - loss: 0.0923 - accuracy: 0.9692 - val_loss: 2.1178 - val_accuracy: 0.7572\n",
            "Epoch 19/20\n",
            "415/415 - 9s - loss: 0.0950 - accuracy: 0.9681 - val_loss: 2.1266 - val_accuracy: 0.7645\n",
            "Epoch 20/20\n",
            "415/415 - 8s - loss: 0.0893 - accuracy: 0.9688 - val_loss: 2.1771 - val_accuracy: 0.7587\n"
          ],
          "name": "stdout"
        }
      ]
    },
    {
      "cell_type": "markdown",
      "metadata": {
        "id": "tGCR8oqmh_hs"
      },
      "source": [
        "Plot loss dan akurasi pada saat training dan validation"
      ]
    },
    {
      "cell_type": "code",
      "metadata": {
        "colab": {
          "base_uri": "https://localhost:8080/",
          "height": 312
        },
        "id": "dKWxT5eLLUcm",
        "outputId": "1b5dc046-3deb-4f19-e93e-9a2ff0326eae"
      },
      "source": [
        "import matplotlib.pyplot as plt\n",
        "\n",
        "\n",
        "loss = history.history['loss']\n",
        "acc = history.history['accuracy']\n",
        "val_los = history.history['val_loss']\n",
        "val_acc = history.history['val_accuracy']\n",
        "\n",
        "epochs = range(len(acc))\n",
        "\n",
        "plt.plot(epochs, acc, 'r', label='Akurasi Pelatihan')\n",
        "plt.plot(epochs, val_acc, 'b', label='Akurasi Validasi')\n",
        "plt.title('Akurasi Pelatihan dan Validasi')\n",
        "plt.xlabel('epoch')\n",
        "plt.ylabel('Akurasi')\n",
        "plt.legend(loc=0)\n",
        "plt.figure()\n",
        "\n",
        "\n",
        "plt.show()"
      ],
      "execution_count": 163,
      "outputs": [
        {
          "output_type": "display_data",
          "data": {
            "image/png": "[encoded data removed]",
            "text/plain": [
              "<Figure size 432x288 with 1 Axes>"
            ]
          },
          "metadata": {
            "tags": [],
            "needs_background": "light"
          }
        },
        {
          "output_type": "display_data",
          "data": {
            "text/plain": [
              "<Figure size 432x288 with 0 Axes>"
            ]
          },
          "metadata": {
            "tags": []
          }
        }
      ]
    },
    {
      "cell_type": "markdown",
      "metadata": {
        "id": "R8Out5SKghfz"
      },
      "source": [
        "Membuat kelas callback untuk membuat pelatihan berhenti ketika akurasi sebesar 85% telah tercapai"
      ]
    },
    {
      "cell_type": "code",
      "metadata": {
        "id": "jQ9XBfnZxoW5"
      },
      "source": [
        "class myCallback(tf.keras.callbacks.Callback):\n",
        "  def on_epoch_end(self, epoch, logs={}):\n",
        "    if(logs.get('accuracy')>0.85):\n",
        "      print(\"\\nAkurasi telah mencapai >85%!\")\n",
        "      self.model.stop_training = True\n",
        "callbacks = myCallback()"
      ],
      "execution_count": 164,
      "outputs": []
    },
    {
      "cell_type": "markdown",
      "metadata": {
        "id": "A9Yf0B1aiRJM"
      },
      "source": [
        "Melatih model dengan disertai callback agar ketika akurasi 85% tercapai pelatihan model akan berhenti."
      ]
    },
    {
      "cell_type": "code",
      "metadata": {
        "colab": {
          "base_uri": "https://localhost:8080/"
        },
        "id": "wHxNQdhJglGa",
        "outputId": "4a8b492a-50b3-4ac4-fd3c-877bc829a23c"
      },
      "source": [
        "history = model.fit(padded_train, label_train, \n",
        "                    epochs=20, \n",
        "                    validation_data=(padded_val, label_val), verbose=2, callbacks=[callbacks])"
      ],
      "execution_count": 165,
      "outputs": [
        {
          "output_type": "stream",
          "text": [
            "Epoch 1/20\n",
            "415/415 - 8s - loss: 0.0920 - accuracy: 0.9696 - val_loss: 2.1270 - val_accuracy: 0.7593\n",
            "\n",
            "Akurasi telah mencapai >85%!\n"
          ],
          "name": "stdout"
        }
      ]
    }
  ]
}